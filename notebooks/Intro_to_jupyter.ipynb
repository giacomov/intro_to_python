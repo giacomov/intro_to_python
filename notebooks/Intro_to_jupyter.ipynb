{
 "cells": [
  {
   "cell_type": "markdown",
   "metadata": {},
   "source": [
    "# Minimal introduction to the Jupyter notebook\n",
    "\n",
    "* Notebooks are collections of \"cells\" and their output\n",
    "* Cells can contain code or Markdown (which is text with special keywords to make titles, images and so on)\n",
    "* For code cells (the default):\n",
    "    * You can write Python code in the cell and edit as many times as you need\n",
    "    * When you are done editing, you can execute (run) the cell by hitting Ctrl + Enter or pressing the \"Play\" button\n",
    "* Cells are added automatically at the bottom when you execute the last cell of the notebook\n",
    "* Cells can also be added in the middle of the notebook by placing the cursor in the cell above the desired position, and then clicking \"+\" in the toolbar above the notebook\n",
    "* The notebook is saved automatically every few minutes. If you want to save at any particular moment, click the Save button at the left of the control bar above the notebook (or File->Save Notebook)\n",
    "* The type of a cell can be changed from \"Code\" to \"Markdown\" in order to write text that is not meant to be executed. Use the drop-down menu on the right of the control bar above the notebook\n",
    "* Cells can be executed in any order, but try as much as possible to execute them in the order they are written,\n",
    "  to avoid confusion and mistakes"
   ]
  },
  {
   "cell_type": "code",
   "execution_count": null,
   "metadata": {},
   "outputs": [],
   "source": []
  }
 ],
 "metadata": {
  "kernelspec": {
   "display_name": "Python 3",
   "language": "python",
   "name": "python3"
  },
  "language_info": {
   "codemirror_mode": {
    "name": "ipython",
    "version": 3
   },
   "file_extension": ".py",
   "mimetype": "text/x-python",
   "name": "python",
   "nbconvert_exporter": "python",
   "pygments_lexer": "ipython3",
   "version": "3.6.7"
  }
 },
 "nbformat": 4,
 "nbformat_minor": 2
}
